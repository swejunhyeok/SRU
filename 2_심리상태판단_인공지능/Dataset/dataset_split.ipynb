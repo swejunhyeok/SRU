{
 "cells": [
  {
   "cell_type": "code",
   "execution_count": 12,
   "metadata": {},
   "outputs": [],
   "source": [
    "import os\n",
    "RAVDESS_dir = './RAVDESS'\n",
    "neutral = []\n",
    "calm = []\n",
    "happy = []\n",
    "sad = []\n",
    "angry = []\n",
    "fearful = []\n",
    "disgust = []\n",
    "surprised = []\n",
    "for subdir, dirs, files in os.walk(RAVDESS_dir):\n",
    "    for file in files:\n",
    "        label = int(file[7:8]) - 1\n",
    "        if label == 0:\n",
    "            neutral.append(file)\n",
    "        elif label == 1:\n",
    "            calm.append(file)\n",
    "        elif label == 2:\n",
    "            happy.append(file)\n",
    "        elif label == 3:\n",
    "            sad.append(file)\n",
    "        elif label == 4:\n",
    "            angry.append(file)\n",
    "        elif label == 5:\n",
    "            fearful.append(file)\n",
    "        elif label == 6:\n",
    "            disgust.append(file)\n",
    "        elif label == 7:\n",
    "            surprised.append(file)\n",
    "            \n",
    "neutral = np.asarray(neutral)\n",
    "calm = np.asarray(calm)\n",
    "happy = np.asarray(happy)\n",
    "sad = np.asarray(sad)\n",
    "angry = np.asarray(angry)\n",
    "fearful = np.asarray(fearful)\n",
    "disgust = np.asarray(disgust)\n",
    "surprised = np.asarray(surprised)"
   ]
  },
  {
   "cell_type": "code",
   "execution_count": 13,
   "metadata": {},
   "outputs": [
    {
     "name": "stdout",
     "output_type": "stream",
     "text": [
      "192 384 384 384 384 384 384 384\n"
     ]
    }
   ],
   "source": [
    "print(len(neutral), len(calm), len(happy), len(sad), len(angry), len(fearful), len(disgust), len(surprised))"
   ]
  },
  {
   "cell_type": "code",
   "execution_count": 14,
   "metadata": {},
   "outputs": [],
   "source": [
    "import numpy as np\n",
    "train_index = np.random.choice(192, 176, replace=False)\n",
    "test_index = np.delete(np.asarray(range(192)), train_index)\n",
    "\n",
    "train_neutral_file = neutral[train_index]\n",
    "test_neutral_file = neutral[test_index]\n",
    "\n",
    "train_index = np.random.choice(384, 352, replace=False)\n",
    "test_index = np.delete(np.asarray(range(384)), train_index)\n",
    "\n",
    "train_calm_file = calm[train_index]\n",
    "test_calm_file = calm[test_index]\n",
    "\n",
    "train_index = np.random.choice(384, 352, replace=False)\n",
    "test_index = np.delete(np.asarray(range(384)), train_index)\n",
    "\n",
    "train_happy_file = happy[train_index]\n",
    "test_happy_file = happy[test_index]\n",
    "\n",
    "train_index = np.random.choice(384, 352, replace=False)\n",
    "test_index = np.delete(np.asarray(range(384)), train_index)\n",
    "\n",
    "train_sad_file = sad[train_index]\n",
    "test_sad_file = sad[test_index]\n",
    "\n",
    "train_index = np.random.choice(384, 352, replace=False)\n",
    "test_index = np.delete(np.asarray(range(384)), train_index)\n",
    "\n",
    "train_angry_file = angry[train_index]\n",
    "test_angry_file = angry[test_index]\n",
    "\n",
    "train_index = np.random.choice(384, 352, replace=False)\n",
    "test_index = np.delete(np.asarray(range(384)), train_index)\n",
    "\n",
    "train_fearful_file = fearful[train_index]\n",
    "test_fearful_file = fearful[test_index]\n",
    "\n",
    "train_index = np.random.choice(384, 352, replace=False)\n",
    "test_index = np.delete(np.asarray(range(384)), train_index)\n",
    "\n",
    "train_disgust_file = disgust[train_index]\n",
    "test_disgust_file = disgust[test_index]\n",
    "\n",
    "train_index = np.random.choice(384, 352, replace=False)\n",
    "test_index = np.delete(np.asarray(range(384)), train_index)\n",
    "\n",
    "train_surprised_file = surprised[train_index]\n",
    "test_surprised_file = surprised[test_index]"
   ]
  },
  {
   "cell_type": "code",
   "execution_count": 15,
   "metadata": {},
   "outputs": [
    {
     "name": "stdout",
     "output_type": "stream",
     "text": [
      "2640 240\n"
     ]
    }
   ],
   "source": [
    "train_file = np.concatenate((train_neutral_file, train_calm_file, train_happy_file, train_sad_file, train_angry_file, train_fearful_file, train_disgust_file, train_surprised_file))\n",
    "test_file = np.concatenate((test_neutral_file, test_calm_file, test_happy_file, test_sad_file, test_angry_file, test_fearful_file, test_disgust_file, test_surprised_file))\n",
    "\n",
    "print(len(train_file), len(test_file))"
   ]
  },
  {
   "cell_type": "code",
   "execution_count": 16,
   "metadata": {},
   "outputs": [],
   "source": [
    "f = open(\"train_list.txt\", 'w')\n",
    "for file in train_file:\n",
    "    f.write(file + '\\n')\n",
    "f.close()"
   ]
  },
  {
   "cell_type": "code",
   "execution_count": 17,
   "metadata": {},
   "outputs": [],
   "source": [
    "f = open(\"test_list.txt\", 'w')\n",
    "for file in test_file:\n",
    "    f.write(file + '\\n')\n",
    "f.close()"
   ]
  },
  {
   "cell_type": "code",
   "execution_count": null,
   "metadata": {},
   "outputs": [],
   "source": []
  }
 ],
 "metadata": {
  "kernelspec": {
   "display_name": "torch",
   "language": "python",
   "name": "torch"
  },
  "language_info": {
   "codemirror_mode": {
    "name": "ipython",
    "version": 3
   },
   "file_extension": ".py",
   "mimetype": "text/x-python",
   "name": "python",
   "nbconvert_exporter": "python",
   "pygments_lexer": "ipython3",
   "version": "3.7.7"
  }
 },
 "nbformat": 4,
 "nbformat_minor": 2
}
