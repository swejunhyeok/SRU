{
 "cells": [
  {
   "cell_type": "code",
   "execution_count": 18,
   "metadata": {},
   "outputs": [],
   "source": [
    "import os"
   ]
  },
  {
   "cell_type": "code",
   "execution_count": 19,
   "metadata": {},
   "outputs": [],
   "source": [
    "# train"
   ]
  },
  {
   "cell_type": "code",
   "execution_count": 20,
   "metadata": {},
   "outputs": [],
   "source": [
    "cohface_dir = './cohface'\n",
    "f = open(\"train_list.txt\", 'w')\n",
    "\n",
    "for i in range(1, 16):\n",
    "    people_dir = cohface_dir + '/' + str(i) + '/'\n",
    "    for j in range(4):\n",
    "        video_dir = people_dir +  str(j) + '/' + 'data.avi'\n",
    "        label_dir = people_dir +  str(j) + '/' + 'data.hdf5'\n",
    "        f.write(video_dir + '\\t' + label_dir + '\\n')\n",
    "f.close()"
   ]
  },
  {
   "cell_type": "code",
   "execution_count": 22,
   "metadata": {},
   "outputs": [],
   "source": [
    "#test"
   ]
  },
  {
   "cell_type": "code",
   "execution_count": 23,
   "metadata": {},
   "outputs": [],
   "source": [
    "cohface_dir = './cohface'\n",
    "f = open(\"test_list.txt\", 'w')\n",
    "for i in range(16, 41):\n",
    "    people_dir = cohface_dir + '/' + str(i) + '/'\n",
    "    for j in range(4):\n",
    "        video_dir = people_dir +  str(j) + '/' + 'data.avi'\n",
    "        label_dir = people_dir +  str(j) + '/' + 'data.hdf5'\n",
    "        f.write(video_dir + '\\t' + label_dir + '\\n')\n",
    "f.close()"
   ]
  },
  {
   "cell_type": "code",
   "execution_count": null,
   "metadata": {},
   "outputs": [],
   "source": []
  }
 ],
 "metadata": {
  "kernelspec": {
   "display_name": "[displayKenrelName]",
   "language": "python",
   "name": "torch_1.3.0"
  },
  "language_info": {
   "codemirror_mode": {
    "name": "ipython",
    "version": 3
   },
   "file_extension": ".py",
   "mimetype": "text/x-python",
   "name": "python",
   "nbconvert_exporter": "python",
   "pygments_lexer": "ipython3",
   "version": "3.7.5"
  }
 },
 "nbformat": 4,
 "nbformat_minor": 2
}
