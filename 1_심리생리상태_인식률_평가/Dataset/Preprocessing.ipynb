{
 "cells": [
  {
   "cell_type": "code",
   "execution_count": 5,
   "metadata": {},
   "outputs": [],
   "source": [
    "import os\n",
    "import cv2\n",
    "import time\n",
    "import numpy as np"
   ]
  },
  {
   "cell_type": "code",
   "execution_count": 6,
   "metadata": {},
   "outputs": [
    {
     "name": "stdout",
     "output_type": "stream",
     "text": [
      "10\n",
      "20\n",
      "30\n",
      "40\n",
      "50\n",
      "60\n"
     ]
    }
   ],
   "source": [
    "# Video -> .npy\n",
    "\n",
    "f = open(\"train_list.txt\", 'r')\n",
    "l = open(\"train_label.txt\", 'r')\n",
    "\n",
    "lst = []\n",
    "cnt = 0\n",
    "while True:\n",
    "    line = f.readline()\n",
    "    label = l.readline()\n",
    "    if not line: break\n",
    "    \n",
    "    cnt += 1\n",
    "    if cnt % 10 == 0:\n",
    "        print(str(cnt))\n",
    "    video_path = line.split('\\t')[0]\n",
    "    HR = label.split('\\t')[0]\n",
    "    BR = label.split('\\t')[1].strip()\n",
    "    \n",
    "    capture = cv2.VideoCapture(video_path)\n",
    "    frame_num = 128\n",
    "    total_frame = capture.get(cv2.CAP_PROP_FRAME_COUNT) - 1\n",
    "    df = (int)(total_frame / frame_num)\n",
    "    \n",
    "    video = []\n",
    "    while(capture.isOpened()):\n",
    "        if capture.get(cv2.CAP_PROP_POS_FRAMES) + 1 == capture.get(cv2.CAP_PROP_FRAME_COUNT):\n",
    "            break\n",
    "        elif (capture.get(cv2.CAP_PROP_POS_FRAMES) + 1) % df != 0 :\n",
    "            ret, frame = capture.read()\n",
    "            continue\n",
    "        ret, frame = capture.read()\n",
    "        ''' face detection '''\n",
    "        face_cascade = cv2.CascadeClassifier('../Utils/haarcascade_frontface.xml')\n",
    "        gray = cv2.cvtColor(frame, cv2.COLOR_BGR2GRAY)\n",
    "        faces = face_cascade.detectMultiScale(gray, 1.3, 5)\n",
    "        if len(faces) != 0:\n",
    "            x,y, w, h = faces[0]\n",
    "            frame = frame[y:y+h, x:x+w]\n",
    "        frame = cv2.resize(frame, (128, 128))\n",
    "        video.append(frame)\n",
    "        if len(video) == frame_num:\n",
    "            break\n",
    "\n",
    "    arr = video, HR, BR\n",
    "    lst.append(arr)\n",
    "f.close()\n",
    "l.close()"
   ]
  },
  {
   "cell_type": "code",
   "execution_count": 7,
   "metadata": {},
   "outputs": [
    {
     "name": "stdout",
     "output_type": "stream",
     "text": [
      "(60, 128, 128, 128, 3) (60,) (60,)\n"
     ]
    }
   ],
   "source": [
    "video, hr, br = zip(*lst)\n",
    "\n",
    "video = np.asarray(video)\n",
    "hr = np.asarray(hr)\n",
    "br = np.asarray(br)\n",
    "\n",
    "np.save(\"train_video.npy\", video)\n",
    "np.save(\"train_hr.npy\", hr)\n",
    "np.save(\"train_br.npy\", br)\n",
    "\n",
    "print(video.shape, hr.shape, br.shape)"
   ]
  },
  {
   "cell_type": "code",
   "execution_count": 8,
   "metadata": {},
   "outputs": [
    {
     "name": "stdout",
     "output_type": "stream",
     "text": [
      "10\n",
      "20\n",
      "30\n",
      "40\n",
      "50\n",
      "60\n",
      "70\n",
      "80\n",
      "90\n",
      "100\n"
     ]
    }
   ],
   "source": [
    "# Video -> .npy\n",
    "\n",
    "f = open(\"test_list.txt\", 'r')\n",
    "l = open(\"test_label.txt\", 'r')\n",
    "\n",
    "lst = []\n",
    "cnt = 0\n",
    "while True:\n",
    "    line = f.readline()\n",
    "    label = l.readline()\n",
    "    if not line: break\n",
    "    \n",
    "    cnt += 1\n",
    "    if cnt % 10 == 0:\n",
    "        print(str(cnt))\n",
    "    video_path = line.split('\\t')[0]\n",
    "    HR = label.split('\\t')[0]\n",
    "    BR = label.split('\\t')[1].strip()\n",
    "    \n",
    "    capture = cv2.VideoCapture(video_path)\n",
    "    frame_num = 128\n",
    "    total_frame = capture.get(cv2.CAP_PROP_FRAME_COUNT) - 1\n",
    "    df = (int)(total_frame / frame_num)\n",
    "    \n",
    "    video = []\n",
    "    while(capture.isOpened()):\n",
    "        if capture.get(cv2.CAP_PROP_POS_FRAMES) + 1 == capture.get(cv2.CAP_PROP_FRAME_COUNT):\n",
    "            break\n",
    "        elif (capture.get(cv2.CAP_PROP_POS_FRAMES) + 1) % df != 0 :\n",
    "            ret, frame = capture.read()\n",
    "            continue\n",
    "        ret, frame = capture.read()\n",
    "        ''' face detection '''\n",
    "        face_cascade = cv2.CascadeClassifier('../Utils/haarcascade_frontface.xml')\n",
    "        gray = cv2.cvtColor(frame, cv2.COLOR_BGR2GRAY)\n",
    "        faces = face_cascade.detectMultiScale(gray, 1.3, 5)\n",
    "        if len(faces) != 0:\n",
    "            x,y, w, h = faces[0]\n",
    "            frame = frame[y:y+h, x:x+w]\n",
    "        frame = cv2.resize(frame, (128, 128))\n",
    "        video.append(frame)\n",
    "        if len(video) == frame_num:\n",
    "            break\n",
    "\n",
    "    arr = video, HR, BR\n",
    "    lst.append(arr)\n",
    "f.close()\n",
    "l.close()"
   ]
  },
  {
   "cell_type": "code",
   "execution_count": 9,
   "metadata": {},
   "outputs": [
    {
     "name": "stdout",
     "output_type": "stream",
     "text": [
      "(100, 128, 128, 128, 3) (100,) (100,)\n"
     ]
    }
   ],
   "source": [
    "video, hr, br = zip(*lst)\n",
    "\n",
    "video = np.asarray(video)\n",
    "hr = np.asarray(hr)\n",
    "br = np.asarray(br)\n",
    "\n",
    "np.save(\"test_video.npy\", video)\n",
    "np.save(\"test_hr.npy\", hr)\n",
    "np.save(\"test_br.npy\", br)\n",
    "\n",
    "print(video.shape, hr.shape, br.shape)"
   ]
  },
  {
   "cell_type": "code",
   "execution_count": null,
   "metadata": {},
   "outputs": [],
   "source": []
  }
 ],
 "metadata": {
  "kernelspec": {
   "display_name": "Python 3",
   "language": "python",
   "name": "python3"
  },
  "language_info": {
   "codemirror_mode": {
    "name": "ipython",
    "version": 3
   },
   "file_extension": ".py",
   "mimetype": "text/x-python",
   "name": "python",
   "nbconvert_exporter": "python",
   "pygments_lexer": "ipython3",
   "version": "3.6.9"
  }
 },
 "nbformat": 4,
 "nbformat_minor": 2
}
